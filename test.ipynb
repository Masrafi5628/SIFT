{
 "cells": [
  {
   "cell_type": "code",
   "execution_count": 1,
   "metadata": {},
   "outputs": [
    {
     "name": "stdout",
     "output_type": "stream",
     "text": [
      "Number of classes/folders: 20\n",
      "Number of images in folder '11': 500\n",
      "Number of images in folder '121': 500\n",
      "Number of images in folder '157': 500\n",
      "Number of images in folder '164': 500\n",
      "Number of images in folder '172': 500\n",
      "Number of images in folder '18': 500\n",
      "Number of images in folder '188': 500\n",
      "Number of images in folder '19': 500\n",
      "Number of images in folder '198': 500\n",
      "Number of images in folder '2': 500\n",
      "Number of images in folder '207': 500\n",
      "Number of images in folder '218': 500\n",
      "Number of images in folder '229': 500\n",
      "Number of images in folder '245': 500\n",
      "Number of images in folder '247': 500\n",
      "Number of images in folder '249': 500\n",
      "Number of images in folder '257': 500\n",
      "Number of images in folder '271': 500\n",
      "Number of images in folder '283': 500\n",
      "Number of images in folder '286': 500\n"
     ]
    }
   ],
   "source": [
    "import os\n",
    "\n",
    "data_path = r'C:\\Users\\Administrator\\Desktop\\EfficientNet\\Augmented_Data copy'\n",
    "\n",
    "# Get the list of folders in the data path\n",
    "folders = [f for f in os.listdir(data_path) if os.path.isdir(os.path.join(data_path, f))]\n",
    "\n",
    "print(f\"Number of classes/folders: {len(folders)}\")\n",
    "\n",
    "# Print the number of images in each folder\n",
    "for folder in folders:\n",
    "    folder_path = os.path.join(data_path, folder)\n",
    "    images = [img for img in os.listdir(folder_path) if os.path.isfile(os.path.join(folder_path, img))]\n",
    "    print(f\"Number of images in folder '{folder}': {len(images)}\")"
   ]
  }
 ],
 "metadata": {
  "kernelspec": {
   "display_name": "py310",
   "language": "python",
   "name": "python3"
  },
  "language_info": {
   "codemirror_mode": {
    "name": "ipython",
    "version": 3
   },
   "file_extension": ".py",
   "mimetype": "text/x-python",
   "name": "python",
   "nbconvert_exporter": "python",
   "pygments_lexer": "ipython3",
   "version": "3.10.14"
  }
 },
 "nbformat": 4,
 "nbformat_minor": 2
}
