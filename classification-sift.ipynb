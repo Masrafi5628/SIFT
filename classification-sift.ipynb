{
 "cells": [
  {
   "cell_type": "code",
   "execution_count": 2,
   "metadata": {},
   "outputs": [
    {
     "name": "stdout",
     "output_type": "stream",
     "text": [
      "Detection Accuracy: nan%\n"
     ]
    },
    {
     "name": "stderr",
     "output_type": "stream",
     "text": [
      "c:\\Users\\CSE-AiD\\anaconda3\\envs\\py310\\lib\\site-packages\\numpy\\lib\\function_base.py:520: RuntimeWarning: Mean of empty slice.\n",
      "  avg = a.mean(axis, **keepdims_kw)\n",
      "c:\\Users\\CSE-AiD\\anaconda3\\envs\\py310\\lib\\site-packages\\numpy\\core\\_methods.py:129: RuntimeWarning: invalid value encountered in scalar divide\n",
      "  ret = ret.dtype.type(ret / rcount)\n"
     ]
    }
   ],
   "source": [
    "import cv2\n",
    "import os\n",
    "from sklearn.metrics import accuracy_score\n",
    "\n",
    "# Initialize SIFT detector\n",
    "sift = cv2.SIFT_create()\n",
    "\n",
    "# Function to detect keypoints and descriptors using SIFT\n",
    "def detect_keypoints(image_path):\n",
    "    image = cv2.imread(image_path, 0)  # Read the image as grayscale\n",
    "    keypoints, descriptors = sift.detectAndCompute(image, None)\n",
    "    return keypoints, descriptors\n",
    "\n",
    "# Load images from training and testing directories\n",
    "train_path = r'M:\\SIFT\\sm-train'\n",
    "test_path = r'M:\\SIFT\\sm-train'\n",
    "\n",
    "train_images = []\n",
    "train_descriptors = []\n",
    "labels = []\n",
    "\n",
    "# Train on the training set\n",
    "for class_folder in os.listdir(train_path):\n",
    "    class_dir = os.path.join(train_path, class_folder)\n",
    "    if os.path.isdir(class_dir):\n",
    "        for image_file in os.listdir(class_dir):\n",
    "            image_path = os.path.join(class_dir, image_file)\n",
    "            _, desc = detect_keypoints(image_path)\n",
    "            if desc is not None:\n",
    "                train_images.append(image_path)\n",
    "                train_descriptors.append(desc)\n",
    "                labels.append(class_folder)\n",
    "\n",
    "# Match test images against training set\n",
    "bf = cv2.BFMatcher()\n",
    "y_true = []\n",
    "y_pred = []\n",
    "\n",
    "for class_folder in os.listdir(test_path):\n",
    "    class_dir = os.path.join(test_path, class_folder)\n",
    "    if os.path.isdir(class_dir):\n",
    "        for image_file in os.listdir(class_dir):\n",
    "            image_path = os.path.join(class_dir, image_file)\n",
    "            kp_test, desc_test = detect_keypoints(image_path)\n",
    "            if desc_test is not None:\n",
    "                best_class = None\n",
    "                best_match_count = 0\n",
    "                for i, train_desc in enumerate(train_descriptors):\n",
    "                    # Perform the matching with KNN\n",
    "                    matches = bf.knnMatch(desc_test, train_desc, k=2)\n",
    "                    \n",
    "                    # Apply ratio test to find good matches\n",
    "                    good_matches = []\n",
    "                    for match in matches:\n",
    "                        if len(match) == 2:  # Ensure there are at least two neighbors\n",
    "                            m, n = match\n",
    "                            if m.distance < 0.75 * n.distance:\n",
    "                                good_matches.append(m)\n",
    "                    \n",
    "                    # Check the number of good matches\n",
    "                    if len(good_matches) > best_match_count:\n",
    "                        best_match_count = len(good_matches)\n",
    "                        best_class = labels[i]\n",
    "\n",
    "                # Append results\n",
    "                y_true.append(class_folder)\n",
    "                y_pred.append(best_class if best_class else \"Unknown\")\n",
    "\n",
    "# Calculate accuracy\n",
    "accuracy = accuracy_score(y_true, y_pred)\n",
    "print(f\"Detection Accuracy: {accuracy * 100:.2f}%\")\n"
   ]
  }
 ],
 "metadata": {
  "kernelspec": {
   "display_name": "py310",
   "language": "python",
   "name": "python3"
  },
  "language_info": {
   "codemirror_mode": {
    "name": "ipython",
    "version": 3
   },
   "file_extension": ".py",
   "mimetype": "text/x-python",
   "name": "python",
   "nbconvert_exporter": "python",
   "pygments_lexer": "ipython3",
   "version": "3.10.14"
  }
 },
 "nbformat": 4,
 "nbformat_minor": 2
}
