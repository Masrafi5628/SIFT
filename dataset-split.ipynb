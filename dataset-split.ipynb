{
 "cells": [
  {
   "cell_type": "code",
   "execution_count": 1,
   "metadata": {},
   "outputs": [
    {
     "name": "stdout",
     "output_type": "stream",
     "text": [
      "Dataset split into training and testing sets successfully.\n"
     ]
    }
   ],
   "source": [
    "import os\n",
    "import shutil\n",
    "from sklearn.model_selection import train_test_split\n",
    "\n",
    "# Paths to your dataset\n",
    "dataset_path = r'M:\\Datasets\\aloi_ill\\png'\n",
    "train_path = r'M:\\Thesis\\SIFT\\train'\n",
    "test_path = r'M:\\Thesis\\SIFT\\test'\n",
    "\n",
    "# Create directories for train and test if not exist\n",
    "os.makedirs(train_path, exist_ok=True)\n",
    "os.makedirs(test_path, exist_ok=True)\n",
    "\n",
    "# Get the list of all class folders\n",
    "classes = os.listdir(dataset_path)\n",
    "\n",
    "for cls in classes:\n",
    "    cls_path = os.path.join(dataset_path, cls)\n",
    "    if os.path.isdir(cls_path):\n",
    "        # List all images in the class folder\n",
    "        images = os.listdir(cls_path)\n",
    "        train_images, test_images = train_test_split(images, test_size=0.2, random_state=42)\n",
    "\n",
    "        # Create class directories in train and test\n",
    "        os.makedirs(os.path.join(train_path, cls), exist_ok=True)\n",
    "        os.makedirs(os.path.join(test_path, cls), exist_ok=True)\n",
    "\n",
    "        # Move the images to train and test directories\n",
    "        for img in train_images:\n",
    "            shutil.move(os.path.join(cls_path, img), os.path.join(train_path, cls, img))\n",
    "        for img in test_images:\n",
    "            shutil.move(os.path.join(cls_path, img), os.path.join(test_path, cls, img))\n",
    "\n",
    "print(\"Dataset split into training and testing sets successfully.\")\n"
   ]
  }
 ],
 "metadata": {
  "kernelspec": {
   "display_name": "py310",
   "language": "python",
   "name": "python3"
  },
  "language_info": {
   "codemirror_mode": {
    "name": "ipython",
    "version": 3
   },
   "file_extension": ".py",
   "mimetype": "text/x-python",
   "name": "python",
   "nbconvert_exporter": "python",
   "pygments_lexer": "ipython3",
   "version": "3.10.14"
  }
 },
 "nbformat": 4,
 "nbformat_minor": 2
}
