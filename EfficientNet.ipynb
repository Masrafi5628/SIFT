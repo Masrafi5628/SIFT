{
 "cells": [
  {
   "cell_type": "code",
   "execution_count": 1,
   "metadata": {},
   "outputs": [
    {
     "name": "stdout",
     "output_type": "stream",
     "text": [
      "Downloading data from https://storage.googleapis.com/keras-applications/efficientnetb0_notop.h5\n",
      "16705208/16705208 [==============================] - 8s 0us/step\n"
     ]
    },
    {
     "ename": "NameError",
     "evalue": "name 'valid_image_paths' is not defined",
     "output_type": "error",
     "traceback": [
      "\u001b[1;31m---------------------------------------------------------------------------\u001b[0m",
      "\u001b[1;31mNameError\u001b[0m                                 Traceback (most recent call last)",
      "Cell \u001b[1;32mIn[1], line 26\u001b[0m\n\u001b[0;32m     24\u001b[0m \u001b[38;5;66;03m# Step 2: Extract EfficientNet features for all valid images\u001b[39;00m\n\u001b[0;32m     25\u001b[0m efficientnet_features \u001b[38;5;241m=\u001b[39m []\n\u001b[1;32m---> 26\u001b[0m \u001b[38;5;28;01mfor\u001b[39;00m image_path \u001b[38;5;129;01min\u001b[39;00m \u001b[43mvalid_image_paths\u001b[49m:\n\u001b[0;32m     27\u001b[0m     features \u001b[38;5;241m=\u001b[39m extract_efficientnet_features(image_path, efficientnet_model)\n\u001b[0;32m     28\u001b[0m     \u001b[38;5;28;01mif\u001b[39;00m features \u001b[38;5;129;01mis\u001b[39;00m \u001b[38;5;129;01mnot\u001b[39;00m \u001b[38;5;28;01mNone\u001b[39;00m:\n",
      "\u001b[1;31mNameError\u001b[0m: name 'valid_image_paths' is not defined"
     ]
    }
   ],
   "source": [
    "import tensorflow as tf\n",
    "from tensorflow.keras.applications import EfficientNetB0\n",
    "from tensorflow.keras.applications.efficientnet import preprocess_input\n",
    "\n",
    "# Step 1: Initialize EfficientNet for feature extraction\n",
    "efficientnet_model = EfficientNetB0(weights='imagenet', include_top=False, pooling='avg')\n",
    "\n",
    "def extract_efficientnet_features(image_path, model):\n",
    "    \"\"\"\n",
    "    Extract features from an image using EfficientNet.\n",
    "    \"\"\"\n",
    "    img = cv2.imread(image_path)\n",
    "    if img is None:\n",
    "        print(f\"Warning: Could not load image {image_path}. Skipping.\")\n",
    "        return None\n",
    "\n",
    "    img_resized = cv2.resize(img, (224, 224))  # Resize image to 224x224 for EfficientNet\n",
    "    img_preprocessed = preprocess_input(img_resized)  # Preprocess for EfficientNet\n",
    "    img_expanded = np.expand_dims(img_preprocessed, axis=0)  # Add batch dimension\n",
    "\n",
    "    features = model.predict(img_expanded)\n",
    "    return features.flatten()\n",
    "\n",
    "# Step 2: Extract EfficientNet features for all valid images\n",
    "efficientnet_features = []\n",
    "for image_path in valid_image_paths:\n",
    "    features = extract_efficientnet_features(image_path, efficientnet_model)\n",
    "    if features is not None:\n",
    "        efficientnet_features.append(features)\n",
    "\n",
    "efficientnet_features = np.array(efficientnet_features)\n",
    "\n",
    "# Step 3: Combine EfficientNet features with SIFT and GLAC features\n",
    "if len(efficientnet_features) != len(combined_features):\n",
    "    raise ValueError(\"Mismatch between EfficientNet features and existing features. Check preprocessing steps.\")\n",
    "\n",
    "final_features = np.hstack([combined_features, efficientnet_features])\n",
    "\n",
    "# Step 4: Train and Test Classifier with Updated Features\n",
    "X_train, X_test, y_train, y_test = train_test_split(final_features, valid_labels, test_size=0.2, random_state=42)\n",
    "\n",
    "scaler = StandardScaler()\n",
    "X_train = scaler.fit_transform(X_train)\n",
    "X_test = scaler.transform(X_test)\n",
    "\n",
    "clf = SVC(kernel='linear', random_state=42)\n",
    "clf.fit(X_train, y_train)\n",
    "\n",
    "y_pred = clf.predict(X_test)\n",
    "accuracy = accuracy_score(y_test, y_pred)\n",
    "print(f\"Accuracy with EfficientNet: {accuracy * 100:.2f}%\")\n"
   ]
  }
 ],
 "metadata": {
  "kernelspec": {
   "display_name": "py310",
   "language": "python",
   "name": "python3"
  },
  "language_info": {
   "codemirror_mode": {
    "name": "ipython",
    "version": 3
   },
   "file_extension": ".py",
   "mimetype": "text/x-python",
   "name": "python",
   "nbconvert_exporter": "python",
   "pygments_lexer": "ipython3",
   "version": "3.10.14"
  }
 },
 "nbformat": 4,
 "nbformat_minor": 2
}
