{
 "cells": [
  {
   "cell_type": "code",
   "execution_count": null,
   "metadata": {
    "vscode": {
     "languageId": "plaintext"
    }
   },
   "outputs": [],
   "source": [
    "import os\n",
    "import shutil\n",
    "import random\n",
    "\n",
    "# Define the dataset directory and output directory\n",
    "data_dir = r\"C:\\Users\\Administrator\\Desktop\\EfficientNet\\Dataset\"\n",
    "output_dir = r\"C:\\Users\\Administrator\\Desktop\\EfficientNet\\Random_20_Classes\"\n",
    "\n",
    "# Create the output directory if it doesn't exist\n",
    "os.makedirs(output_dir, exist_ok=True)\n",
    "\n",
    "# Get a list of all class folders in the dataset directory\n",
    "all_classes = [folder for folder in os.listdir(data_dir) if os.path.isdir(os.path.join(data_dir, folder))]\n",
    "\n",
    "# Randomly select 50 classes\n",
    "selected_classes = random.sample(all_classes, 20)\n",
    "\n",
    "# Copy the selected classes to the output directory\n",
    "for class_name in selected_classes:\n",
    "    src = os.path.join(data_dir, class_name)\n",
    "    dest = os.path.join(output_dir, class_name)\n",
    "    shutil.copytree(src, dest)\n",
    "\n",
    "print(f\"Successfully created a dataset with 20 random classes at {output_dir}.\")\n"
   ]
  }
 ],
 "metadata": {
  "language_info": {
   "name": "python"
  }
 },
 "nbformat": 4,
 "nbformat_minor": 2
}
